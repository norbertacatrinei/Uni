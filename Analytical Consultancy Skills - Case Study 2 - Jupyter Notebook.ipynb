{
 "cells": [
  {
   "cell_type": "code",
   "execution_count": 1,
   "metadata": {},
   "outputs": [
    {
     "data": {
      "text/plain": [
       "\"import itertools\\n\\n\\ndef index_2d(myList, v):\\n    for i, x in enumerate(myList):\\n        if v in x:\\n            return (i, x.index(v))\\n\\n\\n## Imports Data\\nE1=['C','F','G']\\nE2=['C','F','G']\\nE3=['B','G','H']\\nE4=['C','H']\\nE5=['E','I']\\nE6=['A','E']\\nE7=['E','J']\\nE8=['B','C','I']\\nE9=['D']\\n\\n\\nfeeders=[0,'A','B','C','D','E','F','G','H','I','J',0]\\n\\nfeedersCoord=[[2,0],[3,0],[4,0],[5,0],[6,0],[7,0],[8,0],[9,0],[10,0],[11,0]]\\n\\nboard = [feeders,\\n            ['E','F','D','F','D','F','D','F','D','F','D','E'],\\n             ['E','G', 0, 'H','B','H',0,'H',0,'H','I','E'],\\n             ['E',0,'B','A',0,'G','C',0,'C','G',0,'E'],\\n             ['E','C','D',0,'H',0,'I','D',0,'J','G','E'],\\n             ['E','A',0,'I',0,'A','B',0,'G','H',0,'E'],\\n             ['E','F','C',0,'I',0,0,'F',0,0,'J','E'],\\n             ['E','B',0,'D',0,'C','B',0,'J','J',0,'E'],\\n             ['E','H','C',0,'G',0,'H','A','C',0,'H','E'],\\n             ['E','C',0,'A',0,'G',0,0,'I','D',0,'E'],\\n             ['E',0,'G','F','B',0,'I',0,'G',0,'G','E'],\\n             ['E','B',0,'C',0,'H',0,'J',0,'I',0,'E'],\\n             ['E','C','D',0,'F','C','D',0,'B','F','G','E']]\\n\\n\\nboardCoord= [[[1,2],[2,2],[3,2],[4,2],[5,2],[6,2],[7,2],[8,2],[9,2],[10,2],[11,2],[12,2]],\\n             [[1,3],[2,3],[4,3],[5,3],[6,3],[8,3],[10,3],[11,3],[12,3]],\\n             [[1,4],[3,4],[4,4],[6,4],[7,4],[9,4],[10,4],[12,4]],\\n             [[1,5],[2,5],[3,5],[5,5],[7,5],[8,5],[10,5],[11,5],[12,5]],\\n             [[1,6],[2,6],[4,6],[6,6],[7,6],[9,6],[10,6],[12,6]],\\n             [[1,7],[2,7],[3,7],[5,7],[8,7],[11,7],[12,7]],\\n             [[1,8],[2,8],[4,8],[6,8],[7,8],[9,8],[10,8],[12,8]],\\n             [[1,9],[2,9],[3,9],[5,9],[7,9],[8,9],[9,9],[11,9],[12,9]],\\n             [[1,10],[2,10],[4,10],[6,10],[9,10],[10,10],[12,10]],\\n             [[1,11],[3,11],[4,11],[5,11],[7,11],[9,11],[11,11],[12,11]],\\n             [[1,12],[2,12],[4,12],[6,12],[8,12],[10,12],[12,12]],\\n             [[1,13],[2,13],[3,13],[5,13],[6,13],[7,13],[9,13],[10,13],[11,13],[12,13]]]\\n\\n#Calculates how many times each component appears in the board\\nnum=[sum(x.count('A') for x in board),\\n     sum(x.count('B') for x in board),\\n     sum(x.count('C') for x in board),\\n     sum(x.count('D') for x in board),\\n     sum(x.count('E') for x in board),\\n     sum(x.count('F') for x in board),\\n     sum(x.count('G') for x in board),\\n     sum(x.count('H') for x in board),\\n     sum(x.count('I') for x in board),\\n     sum(x.count('J') for x in board)]\\nprint(num)\\n\\n#find the average coordinate of each type of component\\n\\nfor i in range \\n\\n## Creates all possible combinations of heads.\\ndef generate_groups(lst, n):\\n    if not lst:\\n        yield []\\n    else:\\n        for group in (((lst[0],) + xs) for xs in itertools.combinations(lst[1:], n-1)):\\n            for groups in generate_groups([x for x in lst if x not in group], n):\\n                yield [group] + groups\\ncombinations=list(generate_groups(['E1', 'E2', 'E3', 'E4', 'E5', 'E6', 'E7', 'E8', 'E9'], 3))\\nfor i in range(len(combinations)):\\n    print('Combination number:',i+1)\\n    for j in range(0,3):\\n        combinations[i][j]=list(combinations[i][j])\\n        for k in range(0,3):\\n            if combinations[i][j][k]=='E1': \\n                combinations[i][j][k]=E1\\n            if combinations[i][j][k]=='E2': \\n                combinations[i][j][k]=E2 \\n            if combinations[i][j][k]=='E3': \\n                combinations[i][j][k]=E3 \\n            if combinations[i][j][k]=='E4': \\n                combinations[i][j][k]=E4\\n            if combinations[i][j][k]=='E5': \\n                combinations[i][j][k]=E5 \\n            if combinations[i][j][k]=='E6': \\n                combinations[i][j][k]=E6 \\n            if combinations[i][j][k]=='E7': \\n                combinations[i][j][k]=E7 \\n            if combinations[i][j][k]=='E8': \\n                combinations[i][j][k]=E8 \\n            if combinations[i][j][k]=='E9': \\n                combinations[i][j][k]=E9 \\n        print(combinations[i][j])\\n\\n#print(index_2d(board,'C'))\\n\\n#for i in range(len(combinations)):\\n#    for j in range(0,3):\\n#        for k in range(0,3):\\n#            for l in range(len(combinations[i][j][k])):\\n#                print(combinations[i][j][k][l])\\n#print(combinations[0][0][0])\\n\""
      ]
     },
     "execution_count": 1,
     "metadata": {},
     "output_type": "execute_result"
    }
   ],
   "source": [
    "\"\"\"import itertools\n",
    "\n",
    "\n",
    "def index_2d(myList, v):\n",
    "    for i, x in enumerate(myList):\n",
    "        if v in x:\n",
    "            return (i, x.index(v))\n",
    "\n",
    "\n",
    "## Imports Data\n",
    "E1=['C','F','G']\n",
    "E2=['C','F','G']\n",
    "E3=['B','G','H']\n",
    "E4=['C','H']\n",
    "E5=['E','I']\n",
    "E6=['A','E']\n",
    "E7=['E','J']\n",
    "E8=['B','C','I']\n",
    "E9=['D']\n",
    "\n",
    "\n",
    "feeders=[0,'A','B','C','D','E','F','G','H','I','J',0]\n",
    "\n",
    "feedersCoord=[[2,0],[3,0],[4,0],[5,0],[6,0],[7,0],[8,0],[9,0],[10,0],[11,0]]\n",
    "\n",
    "board = [[0,'A','B','C','D','E','F','G','H','I','J',0],\n",
    "            ['E','F','D','F','D','F','D','F','D','F','D','E'],\n",
    "             ['E','G', 0, 'H','B','H',0,'H',0,'H','I','E'],\n",
    "             ['E',0,'B','A',0,'G','C',0,'C','G',0,'E'],\n",
    "             ['E','C','D',0,'H',0,'I','D',0,'J','G','E'],\n",
    "             ['E','A',0,'I',0,'A','B',0,'G','H',0,'E'],\n",
    "             ['E','F','C',0,'I',0,0,'F',0,0,'J','E'],\n",
    "             ['E','B',0,'D',0,'C','B',0,'J','J',0,'E'],\n",
    "             ['E','H','C',0,'G',0,'H','A','C',0,'H','E'],\n",
    "             ['E','C',0,'A',0,'G',0,0,'I','D',0,'E'],\n",
    "             ['E',0,'G','F','B',0,'I',0,'G',0,'G','E'],\n",
    "             ['E','B',0,'C',0,'H',0,'J',0,'I',0,'E'],\n",
    "             ['E','C','D',0,'F','C','D',0,'B','F','G','E']]\n",
    "\n",
    "\n",
    "boardCoord= [[[1,2],[2,2],[3,2],[4,2],[5,2],[6,2],[7,2],[8,2],[9,2],[10,2],[11,2],[12,2]],\n",
    "             [[1,3],[2,3],[4,3],[5,3],[6,3],[8,3],[10,3],[11,3],[12,3]],\n",
    "             [[1,4],[3,4],[4,4],[6,4],[7,4],[9,4],[10,4],[12,4]],\n",
    "             [[1,5],[2,5],[3,5],[5,5],[7,5],[8,5],[10,5],[11,5],[12,5]],\n",
    "             [[1,6],[2,6],[4,6],[6,6],[7,6],[9,6],[10,6],[12,6]],\n",
    "             [[1,7],[2,7],[3,7],[5,7],[8,7],[11,7],[12,7]],\n",
    "             [[1,8],[2,8],[4,8],[6,8],[7,8],[9,8],[10,8],[12,8]],\n",
    "             [[1,9],[2,9],[3,9],[5,9],[7,9],[8,9],[9,9],[11,9],[12,9]],\n",
    "             [[1,10],[2,10],[4,10],[6,10],[9,10],[10,10],[12,10]],\n",
    "             [[1,11],[3,11],[4,11],[5,11],[7,11],[9,11],[11,11],[12,11]],\n",
    "             [[1,12],[2,12],[4,12],[6,12],[8,12],[10,12],[12,12]],\n",
    "             [[1,13],[2,13],[3,13],[5,13],[6,13],[7,13],[9,13],[10,13],[11,13],[12,13]]]\n",
    "\n",
    "#Calculates how many times each component appears in the board\n",
    "num=[sum(x.count('A') for x in board),\n",
    "     sum(x.count('B') for x in board),\n",
    "     sum(x.count('C') for x in board),\n",
    "     sum(x.count('D') for x in board),\n",
    "     sum(x.count('E') for x in board),\n",
    "     sum(x.count('F') for x in board),\n",
    "     sum(x.count('G') for x in board),\n",
    "     sum(x.count('H') for x in board),\n",
    "     sum(x.count('I') for x in board),\n",
    "     sum(x.count('J') for x in board)]\n",
    "print(num)\n",
    "\n",
    "#find the average coordinate of each type of component\n",
    "\n",
    "for i in range \n",
    "\n",
    "## Creates all possible combinations of heads.\n",
    "def generate_groups(lst, n):\n",
    "    if not lst:\n",
    "        yield []\n",
    "    else:\n",
    "        for group in (((lst[0],) + xs) for xs in itertools.combinations(lst[1:], n-1)):\n",
    "            for groups in generate_groups([x for x in lst if x not in group], n):\n",
    "                yield [group] + groups\n",
    "combinations=list(generate_groups(['E1', 'E2', 'E3', 'E4', 'E5', 'E6', 'E7', 'E8', 'E9'], 3))\n",
    "for i in range(len(combinations)):\n",
    "    print('Combination number:',i+1)\n",
    "    for j in range(0,3):\n",
    "        combinations[i][j]=list(combinations[i][j])\n",
    "        for k in range(0,3):\n",
    "            if combinations[i][j][k]=='E1': \n",
    "                combinations[i][j][k]=E1\n",
    "            if combinations[i][j][k]=='E2': \n",
    "                combinations[i][j][k]=E2 \n",
    "            if combinations[i][j][k]=='E3': \n",
    "                combinations[i][j][k]=E3 \n",
    "            if combinations[i][j][k]=='E4': \n",
    "                combinations[i][j][k]=E4\n",
    "            if combinations[i][j][k]=='E5': \n",
    "                combinations[i][j][k]=E5 \n",
    "            if combinations[i][j][k]=='E6': \n",
    "                combinations[i][j][k]=E6 \n",
    "            if combinations[i][j][k]=='E7': \n",
    "                combinations[i][j][k]=E7 \n",
    "            if combinations[i][j][k]=='E8': \n",
    "                combinations[i][j][k]=E8 \n",
    "            if combinations[i][j][k]=='E9': \n",
    "                combinations[i][j][k]=E9 \n",
    "        print(combinations[i][j])\n",
    "\n",
    "#print(index_2d(board,'C'))\n",
    "\n",
    "#for i in range(len(combinations)):\n",
    "#    for j in range(0,3):\n",
    "#        for k in range(0,3):\n",
    "#            for l in range(len(combinations[i][j][k])):\n",
    "#                print(combinations[i][j][k][l])\n",
    "#print(combinations[0][0][0])\n",
    "\"\"\"\n",
    "\n"
   ]
  },
  {
   "cell_type": "code",
   "execution_count": 24,
   "metadata": {},
   "outputs": [],
   "source": [
    "import numpy as np\n",
    "\n",
    "feeders=['A','B','C','D','E','F','G','H','I','J']\n",
    "\n",
    "E1=['C','F','G']\n",
    "E2=['C','F','G']\n",
    "E3=['B','G','H']\n",
    "E4=['C','H']\n",
    "E5=['E','I']\n",
    "E6=['A','E']\n",
    "E7=['E','J']\n",
    "E8=['B','C','I']\n",
    "E9=['D']\n",
    "\n",
    "nozzles = [E1, E2, E3, E4, E5, E6, E7, E8, E9]\n",
    "\n",
    "# Here, for our board we have the x - axis going from 0 to 11, not 1 to 12\n",
    "\n",
    "board = [[0,'A','B','C','D','E','F','G','H','I','J',0],\n",
    "           [0, 0, 0, 0, 0, 0, 0, 0, 0, 0, 0, 0],\n",
    "            ['E','F','D','F','D','F','D','F','D','F','D','E'],\n",
    "             ['E','G', 0, 'H','B','H',0,'H',0,'H','I','E'],\n",
    "             ['E',0,'B','A',0,'G','C',0,'C','G',0,'E'],\n",
    "             ['E','C','D',0,'H',0,'I','D',0,'J','G','E'],\n",
    "             ['E','A',0,'I',0,'A','B',0,'G','H',0,'E'],\n",
    "             ['E','F','C',0,'I',0,0,'F',0,0,'J','E'],\n",
    "             ['E','B',0,'D',0,'C','B',0,'J','J',0,'E'],\n",
    "             ['E','H','C',0,'G',0,'H','A','C',0,'H','E'],\n",
    "             ['E','C',0,'A',0,'G',0,0,'I','D',0,'E'],\n",
    "             ['E',0,'G','F','B',0,'I',0,'G',0,'G','E'],\n",
    "             ['E','B',0,'C',0,'H',0,'J',0,'I',0,'E'],\n",
    "             ['E','C','D',0,'F','C','D',0,'B','F','G','E']]"
   ]
  },
  {
   "cell_type": "code",
   "execution_count": 43,
   "metadata": {},
   "outputs": [],
   "source": [
    "nozzlesPerComponent = []\n",
    "for i in feeders:\n",
    "    temp_list = []\n",
    "    count = 0\n",
    "    for j in range(len(nozzles)):\n",
    "        if i in nozzles[j]:\n",
    "            count += 1\n",
    "    temp_list.append(i)\n",
    "    temp_list.append(count)\n",
    "    nozzlesPerComponent.append(temp_list)\n",
    "     "
   ]
  },
  {
   "cell_type": "code",
   "execution_count": 104,
   "metadata": {},
   "outputs": [
    {
     "data": {
      "text/plain": [
       "[['A', 1],\n",
       " ['B', 2],\n",
       " ['C', 4],\n",
       " ['D', 1],\n",
       " ['E', 3],\n",
       " ['F', 2],\n",
       " ['G', 3],\n",
       " ['H', 2],\n",
       " ['I', 2],\n",
       " ['J', 1]]"
      ]
     },
     "execution_count": 104,
     "metadata": {},
     "output_type": "execute_result"
    }
   ],
   "source": [
    "nozzlesPerComponent"
   ]
  },
  {
   "cell_type": "code",
   "execution_count": 102,
   "metadata": {},
   "outputs": [],
   "source": [
    "componentCount = []\n",
    "for i in feeders:\n",
    "    temp_list = []\n",
    "    count = 0\n",
    "    for j in range(2,len(board)):\n",
    "        for k in range(len(board[0])):\n",
    "            if i == board[j][k]:\n",
    "                count += 1\n",
    "    temp_list.append(i)\n",
    "    temp_list.append(count)\n",
    "    componentCount.append(temp_list)"
   ]
  },
  {
   "cell_type": "code",
   "execution_count": 103,
   "metadata": {},
   "outputs": [
    {
     "data": {
      "text/plain": [
       "[['A', 5],\n",
       " ['B', 8],\n",
       " ['C', 11],\n",
       " ['D', 11],\n",
       " ['E', 24],\n",
       " ['F', 10],\n",
       " ['G', 11],\n",
       " ['H', 10],\n",
       " ['I', 7],\n",
       " ['J', 5]]"
      ]
     },
     "execution_count": 103,
     "metadata": {},
     "output_type": "execute_result"
    }
   ],
   "source": [
    "componentCount"
   ]
  },
  {
   "cell_type": "code",
   "execution_count": 83,
   "metadata": {},
   "outputs": [],
   "source": [
    "avgCoordComponents = []\n",
    "for i in feeders:\n",
    "    temp_list = []\n",
    "    coord1 = 0\n",
    "    coord2 = 0\n",
    "    count = 0\n",
    "    for j in range(2,len(board)):\n",
    "        for k in range(len(board[0])):\n",
    "            if i == board[j][k]:\n",
    "                count += 1\n",
    "                coord1 += j\n",
    "                coord2 += k\n",
    "    temp_list.append(i)\n",
    "    temp_list.append(round(coord1/count,1))\n",
    "    temp_list.append(round(coord2/count,1))\n",
    "    avgCoordComponents.append(temp_list)\n",
    "     "
   ]
  },
  {
   "cell_type": "code",
   "execution_count": 84,
   "metadata": {},
   "outputs": [
    {
     "data": {
      "text/plain": [
       "[['A', 7.0, 3.8],\n",
       " ['B', 8.1, 4.0],\n",
       " ['C', 8.5, 3.8],\n",
       " ['D', 5.8, 5.4],\n",
       " ['E', 7.5, 5.5],\n",
       " ['F', 6.1, 4.9],\n",
       " ['G', 7.9, 6.5],\n",
       " ['H', 6.2, 5.9],\n",
       " ['I', 7.7, 6.6],\n",
       " ['J', 8.0, 8.6]]"
      ]
     },
     "execution_count": 84,
     "metadata": {},
     "output_type": "execute_result"
    }
   ],
   "source": [
    "avgCoordComponents"
   ]
  },
  {
   "cell_type": "code",
   "execution_count": 105,
   "metadata": {},
   "outputs": [],
   "source": [
    "import math\n",
    "\n",
    "avgDistFromFeeder = []\n",
    "for i in range(len(avgCoordComponents)):\n",
    "    temp_list = []\n",
    "    dist = 0\n",
    "    for j in range(1,len(board[0])-1):\n",
    "        if  avgCoordComponents[i][0] == board[0][j]:\n",
    "            dist = math.sqrt(abs(avgCoordComponents[i][1])**2 + abs(avgCoordComponents[i][2]-j)**2)\n",
    "    temp_list.append(avgCoordComponents[i][0])\n",
    "    temp_list.append(round(dist, 1))\n",
    "    avgDistFromFeeder.append(temp_list)\n",
    "    "
   ]
  },
  {
   "cell_type": "code",
   "execution_count": 108,
   "metadata": {},
   "outputs": [
    {
     "data": {
      "text/plain": [
       "[['A', 7.5],\n",
       " ['B', 8.3],\n",
       " ['C', 8.5],\n",
       " ['D', 6.0],\n",
       " ['E', 7.5],\n",
       " ['F', 6.2],\n",
       " ['G', 7.9],\n",
       " ['H', 6.5],\n",
       " ['I', 8.1],\n",
       " ['J', 8.1]]"
      ]
     },
     "execution_count": 108,
     "metadata": {},
     "output_type": "execute_result"
    }
   ],
   "source": [
    "avgDistFromFeeder"
   ]
  },
  {
   "cell_type": "code",
   "execution_count": null,
   "metadata": {},
   "outputs": [],
   "source": []
  }
 ],
 "metadata": {
  "kernelspec": {
   "display_name": "Python 3",
   "language": "python",
   "name": "python3"
  },
  "language_info": {
   "codemirror_mode": {
    "name": "ipython",
    "version": 3
   },
   "file_extension": ".py",
   "mimetype": "text/x-python",
   "name": "python",
   "nbconvert_exporter": "python",
   "pygments_lexer": "ipython3",
   "version": "3.7.7"
  }
 },
 "nbformat": 4,
 "nbformat_minor": 4
}
